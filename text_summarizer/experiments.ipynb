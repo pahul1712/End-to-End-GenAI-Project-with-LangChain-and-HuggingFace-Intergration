{
 "cells": [
  {
   "cell_type": "markdown",
   "metadata": {},
   "source": [
    "### Hugging Face x LangChain: A new partner package in LangChain"
   ]
  },
  {
   "cell_type": "code",
   "execution_count": 2,
   "metadata": {},
   "outputs": [
    {
     "data": {
      "text/plain": [
       "True"
      ]
     },
     "execution_count": 2,
     "metadata": {},
     "output_type": "execute_result"
    }
   ],
   "source": [
    "import os\n",
    "from dotenv import load_dotenv\n",
    "load_dotenv()"
   ]
  },
  {
   "cell_type": "markdown",
   "metadata": {},
   "source": [
    "### # HuggingFaceEndpoint"
   ]
  },
  {
   "cell_type": "code",
   "execution_count": 3,
   "metadata": {},
   "outputs": [],
   "source": [
    "from langchain_huggingface import HuggingFaceEndpoint, ChatHuggingFace\n"
   ]
  },
  {
   "cell_type": "code",
   "execution_count": 4,
   "metadata": {},
   "outputs": [],
   "source": [
    "repo_id=\"mistralai/Mistral-7B-Instruct-v0.3\"\n",
    "llm=HuggingFaceEndpoint(repo_id=repo_id,max_new_tokens=150,temperature=0.7,task=\"text-generation\",huggingfacehub_api_token=os.getenv(\"HF_TOKEN\"))\n",
    "chat_llm = ChatHuggingFace(llm=llm)"
   ]
  },
  {
   "cell_type": "code",
   "execution_count": 5,
   "metadata": {},
   "outputs": [
    {
     "data": {
      "text/plain": [
       "AIMessage(content=' Machine Learning (ML) is a subset of artificial intelligence (AI) that provides systems the ability to automatically learn and improve from experience without being explicitly programmed. It focuses on the development of computer programs that can access data and use it to learn for themselves.\\n\\nThe process of learning begins with observations or data, such as examples, direct experience, or instruction, in order to look for patterns in data and make better decisions in the future based on the examples that we provide. The primary aim is to allow the computers to learn automatically to achieve their design goals.\\n\\nThere are three main types of machine learning: supervised learning, unsupervised learning, and reinforcement learning. In supervised learning, the model is trained on a labeled dataset, where the correct output is provided for each input. In unsupervised learning, the model is given an unlabeled dataset and must find patterns and relationships on its own. Reinforcement learning involves an agent learning to make decisions by taking actions in an environment to achieve a goal, receiving rewards or penalties for each action.\\n\\nMachine learning is used in various applications, such as image and speech recognition, natural language processing, recommendation systems, and autonomous vehicles, to name a few. It has the potential to revolutionize many industries and improve our daily lives in numerous ways.', additional_kwargs={}, response_metadata={'token_usage': {'completion_tokens': 272, 'prompt_tokens': 9, 'total_tokens': 281}, 'model_name': 'mistralai/Mistral-7B-Instruct-v0.3', 'system_fingerprint': None, 'finish_reason': 'stop', 'logprobs': None}, id='run--93c87f46-cdec-4a55-b262-b99da4da2565-0', usage_metadata={'input_tokens': 9, 'output_tokens': 272, 'total_tokens': 281})"
      ]
     },
     "execution_count": 5,
     "metadata": {},
     "output_type": "execute_result"
    }
   ],
   "source": [
    "chat_llm.invoke(\"What is Machine Learning?\")"
   ]
  },
  {
   "cell_type": "code",
   "execution_count": 5,
   "metadata": {},
   "outputs": [
    {
     "data": {
      "text/plain": [
       "AIMessage(content=' Generative AI is a type of artificial intelligence that can create new content, such as images, text, or music, by learning patterns from a large dataset. It works by generating output that resembles the input data it was trained on, but with some variations or new combinations.\\n\\nFor example, a generative AI model trained on a dataset of cat images could generate new images of cats with different poses, colors, and textures. Similarly, a generative AI model trained on a dataset of text could generate new sentences or paragraphs that are grammatically correct and semantically coherent, but with unique word choices and structures.\\n\\nGenerative AI has many potential applications, such as creating personalized content, generating synthetic data for training other AI models, and even creating art or music. However, it also raises ethical and societal concerns, such as the potential for misuse in creating deepfakes or other forms of deception.', additional_kwargs={}, response_metadata={'token_usage': {'completion_tokens': 196, 'prompt_tokens': 9, 'total_tokens': 205}, 'model_name': 'mistralai/Mistral-7B-Instruct-v0.3', 'system_fingerprint': None, 'finish_reason': 'stop', 'logprobs': None}, id='run--b18ee2b6-3d3b-4348-a829-0552bbe2d9fe-0', usage_metadata={'input_tokens': 9, 'output_tokens': 196, 'total_tokens': 205})"
      ]
     },
     "execution_count": 5,
     "metadata": {},
     "output_type": "execute_result"
    }
   ],
   "source": [
    "chat_llm.invoke(\"What is Generative AI\")"
   ]
  },
  {
   "cell_type": "code",
   "execution_count": 6,
   "metadata": {},
   "outputs": [],
   "source": [
    "repo_id=\"meta-llama/Llama-3.1-8B-Instruct\"\n",
    "llm=HuggingFaceEndpoint(repo_id=repo_id,max_new_tokens=150,temperature=0.7,task=\"text-generation\",huggingfacehub_api_token=os.getenv(\"HF_TOKEN\"))\n",
    "chat_llm_gema = ChatHuggingFace(llm=llm)"
   ]
  },
  {
   "cell_type": "code",
   "execution_count": 7,
   "metadata": {},
   "outputs": [
    {
     "data": {
      "text/plain": [
       "AIMessage(content='**Machine Learning: An Overview**\\n\\nMachine learning is a subset of artificial intelligence (AI) that involves training algorithms to learn from data and make predictions or decisions without being explicitly programmed. It allows computers to identify patterns and relationships in data, enabling them to make accurate predictions, classify objects, and make decisions.\\n\\n**Key Concepts:**\\n\\n1. **Data**: Machine learning relies heavily on data, which is used to train and test the algorithms.\\n2. **Algorithms**: These are the mathematical formulas that enable the computer to learn from the data.\\n3. **Model**: A machine learning model is a representation of the data and the relationships between variables.\\n4. **Training**: The process of feeding the algorithm with data to learn and improve its performance.\\n5. **Prediction**: The algorithm uses the learned model to make predictions or decisions based on new, unseen data.\\n\\n**Types of Machine Learning:**\\n\\n1. **Supervised Learning**: The algorithm is trained on labeled data to learn the relationships between variables.\\n2. **Unsupervised Learning**: The algorithm is trained on unlabeled data to discover hidden patterns and relationships.\\n3. **Reinforcement Learning**: The algorithm learns by interacting with an environment and receiving feedback in the form of rewards or penalties.\\n\\n**Applications of Machine Learning:**\\n\\n1. **Image and Speech Recognition**: Machines can recognize and classify images and speech patterns.\\n2. **Natural Language Processing**: Machines can understand and generate human language.\\n3. **Predictive Analytics**: Machines can predict outcomes based on historical data and trends.\\n4. **Robotics**: Machines can learn to perform tasks that require physical and cognitive abilities.\\n\\n**Machine Learning Tools and Frameworks:**\\n\\n1. **Scikit-learn**: A popular Python library for machine learning.\\n2. **TensorFlow**: An open-source framework for building and training neural networks.\\n3. **PyTorch**: Another popular open-source framework for building and training neural networks.\\n\\n**Code Example:**\\n\\nHere\\'s a simple example of a supervised learning model using Scikit-learn:\\n```python\\nfrom sklearn.datasets import load_iris\\nfrom sklearn.model_selection import train_test_split\\nfrom sklearn.linear_model import LogisticRegression\\n\\n# Load the iris dataset\\niris = load_iris()\\n\\n# Split the data into training and testing sets\\nX_train, X_test, y_train, y_test = train_test_split(iris.data, iris.target, test_size=0.2, random_state=42)\\n\\n# Create a logistic regression model\\nmodel = LogisticRegression()\\n\\n# Train the model on the training data\\nmodel.fit(X_train, y_train)\\n\\n# Make predictions on the testing data\\ny_pred = model.predict(X_test)\\n\\n# Evaluate the model\\'s performance\\nprint(\"Accuracy:\", model.score(X_test, y_test))\\n```\\nThis code loads the iris dataset, splits it into training and testing sets, creates a logistic regression model, trains it on the training data, makes predictions on the testing data, and evaluates the model\\'s performance.', additional_kwargs={}, response_metadata={'token_usage': {'completion_tokens': 603, 'prompt_tokens': 40, 'total_tokens': 643}, 'model_name': 'meta-llama/Llama-3.1-8B-Instruct', 'system_fingerprint': '', 'finish_reason': 'stop', 'logprobs': None}, id='run--4eb0020d-111b-4618-abe1-205c8eddbd85-0', usage_metadata={'input_tokens': 40, 'output_tokens': 603, 'total_tokens': 643})"
      ]
     },
     "execution_count": 7,
     "metadata": {},
     "output_type": "execute_result"
    }
   ],
   "source": [
    "chat_llm_gema.invoke(\"What is Machine Learning?\")"
   ]
  },
  {
   "cell_type": "code",
   "execution_count": 8,
   "metadata": {},
   "outputs": [],
   "source": [
    "repo_id=\"mistralai/Mistral-7B-Instruct-v0.3\"\n",
    "llm=HuggingFaceEndpoint(repo_id=repo_id,max_new_tokens=150,temperature=0.7,task=\"text-generation\",huggingfacehub_api_token=os.getenv(\"HF_TOKEN\"))\n",
    "chat_llm = ChatHuggingFace(llm=llm)"
   ]
  },
  {
   "cell_type": "code",
   "execution_count": 9,
   "metadata": {},
   "outputs": [
    {
     "name": "stdout",
     "output_type": "stream",
     "text": [
      "input_variables=['question'] input_types={} partial_variables={} template='\\nQuestion:{question}\\nAnswer: Lets thing step by step.\\n'\n"
     ]
    }
   ],
   "source": [
    "from langchain import PromptTemplate,LLMChain\n",
    "template = \"\"\"\n",
    "Question:{question}\n",
    "Answer: Lets thing step by step.\n",
    "\"\"\"\n",
    "prompt = PromptTemplate(template=template,input_variables=[\"question\"])\n",
    "print(prompt)"
   ]
  },
  {
   "cell_type": "code",
   "execution_count": 10,
   "metadata": {},
   "outputs": [
    {
     "name": "stderr",
     "output_type": "stream",
     "text": [
      "/var/folders/_2/jpmfdqtd00jd3lk5rwrxp63m0000gn/T/ipykernel_39258/763098506.py:1: LangChainDeprecationWarning: The class `LLMChain` was deprecated in LangChain 0.1.17 and will be removed in 1.0. Use :meth:`~RunnableSequence, e.g., `prompt | llm`` instead.\n",
      "  llm_chain = LLMChain(llm=chat_llm,prompt=prompt)\n"
     ]
    },
    {
     "data": {
      "text/plain": [
       "{'question': 'Who won the cricket world cup 2011?',\n",
       " 'text': ' The Cricket World Cup 2011 was won by the Indian cricket team. They defeated Sri Lanka in the final match held at the Wankhede Stadium in Mumbai, India. The winning margin was 6 wickets, with 6 balls remaining. The man of the match was the Indian captain, Mahendra Singh Dhoni, who scored an unbeaten 91 runs off 79 balls. This victory was a historic moment for Indian cricket as it was their second World Cup win after 28 years.'}"
      ]
     },
     "execution_count": 10,
     "metadata": {},
     "output_type": "execute_result"
    }
   ],
   "source": [
    "llm_chain = LLMChain(llm=chat_llm,prompt=prompt)\n",
    "llm_chain.invoke(\"Who won the cricket world cup 2011?\")"
   ]
  },
  {
   "cell_type": "code",
   "execution_count": 11,
   "metadata": {},
   "outputs": [
    {
     "name": "stderr",
     "output_type": "stream",
     "text": [
      "/var/folders/_2/jpmfdqtd00jd3lk5rwrxp63m0000gn/T/ipykernel_39258/3937827943.py:6: LangChainDeprecationWarning: The class `HuggingFaceBgeEmbeddings` was deprecated in LangChain 0.2.2 and will be removed in 1.0. An updated version of the class exists in the :class:`~langchain-huggingface package and should be used instead. To use it run `pip install -U :class:`~langchain-huggingface` and import as `from :class:`~langchain_huggingface import HuggingFaceEmbeddings``.\n",
      "  hf = HuggingFaceBgeEmbeddings(\n"
     ]
    }
   ],
   "source": [
    "from langchain_community.embeddings import HuggingFaceBgeEmbeddings\n",
    "\n",
    "model_name = \"BAAI/bge-small-en\"\n",
    "model_kwargs = {\"device\":\"cpu\"}\n",
    "encode_kwargs = {\"normalize_embeddings\":True}\n",
    "hf = HuggingFaceBgeEmbeddings(\n",
    "    model_name=model_name, model_kwargs = model_kwargs, encode_kwargs = encode_kwargs\n",
    ")\n"
   ]
  },
  {
   "cell_type": "code",
   "execution_count": 12,
   "metadata": {},
   "outputs": [],
   "source": [
    "embedding = hf.embed_query(\"hi this is harrison\")"
   ]
  },
  {
   "cell_type": "code",
   "execution_count": 13,
   "metadata": {},
   "outputs": [
    {
     "data": {
      "text/plain": [
       "[-0.028416592627763748,\n",
       " 0.012183246202766895,\n",
       " 0.02744397148489952,\n",
       " -0.0548286996781826,\n",
       " 0.02423890307545662,\n",
       " 0.0007662366842851043,\n",
       " 0.06783362478017807,\n",
       " 0.01634836196899414,\n",
       " -0.01895071752369404,\n",
       " 0.012542896904051304,\n",
       " 0.02156497910618782,\n",
       " -0.08793038129806519,\n",
       " 0.0006460610893554986,\n",
       " 0.033270858228206635,\n",
       " 0.0054637715220451355,\n",
       " -0.06037646159529686,\n",
       " 0.05042261630296707,\n",
       " 0.0044348412193357944,\n",
       " 0.0009598348406143486,\n",
       " 0.0017405325779691339,\n",
       " 0.0032988018356263638,\n",
       " 0.03167247772216797,\n",
       " -0.04880747199058533,\n",
       " -0.044819146394729614,\n",
       " 0.07132107764482498,\n",
       " -0.0075108762830495834,\n",
       " -0.0011259489692747593,\n",
       " -0.01580115593969822,\n",
       " -0.02940233424305916,\n",
       " -0.17224566638469696,\n",
       " -0.03189518675208092,\n",
       " -0.001629125908948481,\n",
       " 0.01810501329600811,\n",
       " 0.015315406955778599,\n",
       " -0.02072957344353199,\n",
       " -0.008872976526618004,\n",
       " -0.0012822606367990375,\n",
       " 0.027276890352368355,\n",
       " -0.010114242322742939,\n",
       " 0.012621664442121983,\n",
       " -0.0070778741501271725,\n",
       " -0.016693200916051865,\n",
       " 0.040855810046195984,\n",
       " 0.023938357830047607,\n",
       " -0.020081549882888794,\n",
       " 0.028681136667728424,\n",
       " -0.01940072514116764,\n",
       " -0.01461818628013134,\n",
       " 0.017379634082317352,\n",
       " 0.004164074081927538,\n",
       " 0.06415647268295288,\n",
       " 0.04768309369683266,\n",
       " 0.001836507930420339,\n",
       " -8.066664304351434e-05,\n",
       " 0.016596782952547073,\n",
       " 0.011124219745397568,\n",
       " 0.0696943923830986,\n",
       " 0.05182048678398132,\n",
       " 0.05568533390760422,\n",
       " 0.05551539734005928,\n",
       " 0.0005039583775214851,\n",
       " 0.0418706089258194,\n",
       " -0.15344089269638062,\n",
       " 0.05180785432457924,\n",
       " 0.0066898288205266,\n",
       " -0.03167073801159859,\n",
       " -0.009104988537728786,\n",
       " -0.05160469189286232,\n",
       " 0.042508598417043686,\n",
       " 0.028200041502714157,\n",
       " -0.010748166590929031,\n",
       " 0.02240579016506672,\n",
       " 0.04439553990960121,\n",
       " 0.004115554969757795,\n",
       " 0.018998483195900917,\n",
       " -0.004357215948402882,\n",
       " 0.04762765020132065,\n",
       " 0.011824646033346653,\n",
       " 0.00816461443901062,\n",
       " 0.008177237585186958,\n",
       " -0.009698736481368542,\n",
       " -0.014260312542319298,\n",
       " 0.011409725062549114,\n",
       " -0.07362113893032074,\n",
       " -0.05439523980021477,\n",
       " -0.05703959986567497,\n",
       " -0.0036085317842662334,\n",
       " 0.00266610411927104,\n",
       " 0.02378249727189541,\n",
       " 0.015376221388578415,\n",
       " -0.0702037513256073,\n",
       " -0.0313003771007061,\n",
       " -0.0031142481602728367,\n",
       " -0.015812184661626816,\n",
       " -0.037914007902145386,\n",
       " -0.02592187188565731,\n",
       " 0.018168427050113678,\n",
       " -0.03882461413741112,\n",
       " -0.05674510821700096,\n",
       " 0.5792059898376465,\n",
       " -0.05278833210468292,\n",
       " 0.02071637660264969,\n",
       " 0.06794387847185135,\n",
       " -0.045416537672281265,\n",
       " 0.011642434634268284,\n",
       " -0.021571755409240723,\n",
       " 0.020341726019978523,\n",
       " -0.027448957785964012,\n",
       " -0.045588959008455276,\n",
       " -0.029443571344017982,\n",
       " -0.02366245724260807,\n",
       " -0.03431528061628342,\n",
       " 0.001938838860951364,\n",
       " -0.07095140218734741,\n",
       " 0.03455633670091629,\n",
       " -0.030558934435248375,\n",
       " 0.039078619331121445,\n",
       " -0.029707331210374832,\n",
       " -0.0008282775525003672,\n",
       " -0.012159387581050396,\n",
       " -0.018272770568728447,\n",
       " 0.025486551225185394,\n",
       " -0.004461678676307201,\n",
       " 0.016335370019078255,\n",
       " 0.019126497209072113,\n",
       " -0.05483211204409599,\n",
       " 0.02763601951301098,\n",
       " -0.004757655784487724,\n",
       " 0.05900174006819725,\n",
       " -0.001694475649856031,\n",
       " 0.008014949038624763,\n",
       " -0.037726834416389465,\n",
       " -0.09893042594194412,\n",
       " -0.022574428468942642,\n",
       " -0.03760472685098648,\n",
       " -0.002169865183532238,\n",
       " 0.0032446442637592554,\n",
       " -0.019202543422579765,\n",
       " -0.008631160482764244,\n",
       " -0.04802308976650238,\n",
       " 0.008696703240275383,\n",
       " -0.0951610803604126,\n",
       " -0.03496048226952553,\n",
       " -0.04360798001289368,\n",
       " -0.00034400069853290915,\n",
       " -0.01017365138977766,\n",
       " -0.03099956177175045,\n",
       " 0.024309704080224037,\n",
       " -0.020402001217007637,\n",
       " 0.031139366328716278,\n",
       " 0.0008811285370029509,\n",
       " 0.01391649805009365,\n",
       " -0.031196212396025658,\n",
       " -0.03715405985713005,\n",
       " 0.0040296227671206,\n",
       " 0.014799794182181358,\n",
       " 0.043188951909542084,\n",
       " 0.038754865527153015,\n",
       " 0.01385195180773735,\n",
       " 0.01979787088930607,\n",
       " 0.010267063975334167,\n",
       " -0.005434084217995405,\n",
       " -0.014299213886260986,\n",
       " 0.027637813240289688,\n",
       " 0.009802651591598988,\n",
       " -0.1355028748512268,\n",
       " -0.017139747738838196,\n",
       " 0.017617113888263702,\n",
       " 0.023132270202040672,\n",
       " 0.001759042264893651,\n",
       " 0.03088945522904396,\n",
       " 0.03991870582103729,\n",
       " -0.01368417777121067,\n",
       " 0.024816501885652542,\n",
       " 0.054050177335739136,\n",
       " 0.01776113361120224,\n",
       " -0.018475070595741272,\n",
       " 0.02595536783337593,\n",
       " -0.006377561949193478,\n",
       " -0.016587309539318085,\n",
       " 0.037848006933927536,\n",
       " -0.02729010209441185,\n",
       " -0.05284577235579491,\n",
       " -0.03803320601582527,\n",
       " 0.051911089569330215,\n",
       " -0.0075570703484117985,\n",
       " -0.03180530294775963,\n",
       " 0.013284181244671345,\n",
       " -0.027723779901862144,\n",
       " 0.056306540966033936,\n",
       " 0.003041893010959029,\n",
       " 0.05332484468817711,\n",
       " -0.057911235839128494,\n",
       " -0.011325784027576447,\n",
       " -0.031171973794698715,\n",
       " 0.025608696043491364,\n",
       " 0.033890631049871445,\n",
       " -0.0010284828022122383,\n",
       " 0.015864919871091843,\n",
       " 0.010595169849693775,\n",
       " -0.027037793770432472,\n",
       " -0.0009308221633546054,\n",
       " -0.048152197152376175,\n",
       " 0.028179246932268143,\n",
       " 0.010320608504116535,\n",
       " 0.06662966310977936,\n",
       " -0.016558198258280754,\n",
       " -0.0044313762336969376,\n",
       " 0.038234248757362366,\n",
       " -0.023408211767673492,\n",
       " -0.03558177128434181,\n",
       " -0.05829069763422012,\n",
       " -0.011181487701833248,\n",
       " -0.01768455281853676,\n",
       " -0.01614127680659294,\n",
       " -0.03424534201622009,\n",
       " -0.02513952925801277,\n",
       " 0.03939668461680412,\n",
       " -0.023658229038119316,\n",
       " -0.007725014351308346,\n",
       " -0.005098944995552301,\n",
       " -0.035234395414590836,\n",
       " -0.014076825231313705,\n",
       " -0.2232602834701538,\n",
       " -0.03147132322192192,\n",
       " -0.001290591317228973,\n",
       " -0.0017200586153194308,\n",
       " -0.007846052758395672,\n",
       " -0.05802329629659653,\n",
       " 0.046174533665180206,\n",
       " 0.024552665650844574,\n",
       " 0.07320844382047653,\n",
       " 0.017268316820263863,\n",
       " 0.04761214554309845,\n",
       " 0.013473314233124256,\n",
       " -0.005516043398529291,\n",
       " -0.014357861131429672,\n",
       " -0.009674297645688057,\n",
       " 0.04878249019384384,\n",
       " 0.030538108199834824,\n",
       " -0.024993950501084328,\n",
       " 0.021486228331923485,\n",
       " 0.01763979159295559,\n",
       " 0.053138937801122665,\n",
       " 0.013484984636306763,\n",
       " -0.023225946351885796,\n",
       " -0.02140398882329464,\n",
       " 0.026075348258018494,\n",
       " 0.0020291993860155344,\n",
       " 0.12753745913505554,\n",
       " 0.08316837251186371,\n",
       " 0.04408951848745346,\n",
       " -0.026703612878918648,\n",
       " 0.005522001534700394,\n",
       " -0.009294873103499413,\n",
       " 0.02007434144616127,\n",
       " -0.09684178978204727,\n",
       " -0.024703944101929665,\n",
       " 0.02508697472512722,\n",
       " 0.0020886342972517014,\n",
       " -0.044894035905599594,\n",
       " -0.07861137390136719,\n",
       " -0.004376357886940241,\n",
       " -0.06590459495782852,\n",
       " 0.01468941755592823,\n",
       " -0.05764184519648552,\n",
       " -0.07152029126882553,\n",
       " -0.06232650578022003,\n",
       " 0.0034316438250243664,\n",
       " -0.046065542846918106,\n",
       " 0.04530087485909462,\n",
       " -0.026762261986732483,\n",
       " 0.03401089832186699,\n",
       " 0.04547380283474922,\n",
       " -0.02817927487194538,\n",
       " 0.0050117867067456245,\n",
       " 0.0096308384090662,\n",
       " -0.030305612832307816,\n",
       " -0.036124829202890396,\n",
       " -0.013626939617097378,\n",
       " -0.03265371918678284,\n",
       " -0.0446774959564209,\n",
       " 0.010642235167324543,\n",
       " -0.027486274018883705,\n",
       " -0.02456505410373211,\n",
       " -0.024747787043452263,\n",
       " 0.05361957848072052,\n",
       " 0.02078993432223797,\n",
       " 0.019468452781438828,\n",
       " 0.053241223096847534,\n",
       " -0.014002429321408272,\n",
       " 0.02124324068427086,\n",
       " -0.04957326129078865,\n",
       " -0.008522598072886467,\n",
       " 0.007852797396481037,\n",
       " -0.05719397962093353,\n",
       " -0.027550622820854187,\n",
       " 0.005300906952470541,\n",
       " 0.040072884410619736,\n",
       " 0.019597923383116722,\n",
       " -0.045197367668151855,\n",
       " 0.03243585675954819,\n",
       " -0.012342416681349277,\n",
       " 0.03431440517306328,\n",
       " 0.021102111786603928,\n",
       " 0.039846424013376236,\n",
       " 0.03166377916932106,\n",
       " -0.03359026461839676,\n",
       " 0.03164788708090782,\n",
       " -0.003304499201476574,\n",
       " 0.0046418472193181515,\n",
       " 0.037589363753795624,\n",
       " -0.059244632720947266,\n",
       " 0.007028326857835054,\n",
       " 0.0038087130524218082,\n",
       " -0.025788914412260056,\n",
       " -0.021203339099884033,\n",
       " 0.022691216319799423,\n",
       " -0.021772950887680054,\n",
       " -0.27963775396347046,\n",
       " 0.007267426699399948,\n",
       " 0.021071966737508774,\n",
       " 0.045197468250989914,\n",
       " -0.020534489303827286,\n",
       " 0.024313706904649734,\n",
       " -0.0006136298179626465,\n",
       " -0.011857050471007824,\n",
       " -0.03296774625778198,\n",
       " 0.03584308549761772,\n",
       " 0.0312817245721817,\n",
       " 0.06373956054449081,\n",
       " 0.046547893434762955,\n",
       " -0.014470525085926056,\n",
       " 0.015869706869125366,\n",
       " 0.033971257507801056,\n",
       " 0.018059538677334785,\n",
       " 0.002298743464052677,\n",
       " 0.016549862921237946,\n",
       " -0.021714849397540092,\n",
       " -0.034859996289014816,\n",
       " -0.000864923931658268,\n",
       " 0.15126043558120728,\n",
       " -0.024536721408367157,\n",
       " 0.03067116253077984,\n",
       " -0.00731819961220026,\n",
       " -0.006135435309261084,\n",
       " 0.06415148824453354,\n",
       " 0.016021456569433212,\n",
       " -0.03636449575424194,\n",
       " 0.01989857479929924,\n",
       " -0.021172337234020233,\n",
       " 0.04829413816332817,\n",
       " -0.04478098824620247,\n",
       " 0.04763384163379669,\n",
       " 0.0007749292417429388,\n",
       " -0.0059279790148139,\n",
       " 0.06154262647032738,\n",
       " 0.023968420922756195,\n",
       " 0.01330500841140747,\n",
       " 0.022684495896100998,\n",
       " 0.014538061805069447,\n",
       " -0.05215909704566002,\n",
       " -0.03274964913725853,\n",
       " 0.08583346009254456,\n",
       " -0.0037249145098030567,\n",
       " 0.001349432161077857,\n",
       " 0.0409199595451355,\n",
       " 0.011659677140414715,\n",
       " 0.058436211198568344,\n",
       " -0.022286171093583107,\n",
       " -0.011520671658217907,\n",
       " 0.0047057149931788445,\n",
       " 0.04718264937400818,\n",
       " -0.0019179123919457197,\n",
       " 0.0330093652009964,\n",
       " -0.035050589591264725,\n",
       " -0.020736541599035263,\n",
       " -0.009222188033163548,\n",
       " 0.014618256129324436,\n",
       " 0.006456067785620689,\n",
       " 0.0010978641221299767,\n",
       " 0.01022398006170988,\n",
       " 0.08537211269140244,\n",
       " 0.03883955627679825]"
      ]
     },
     "execution_count": 13,
     "metadata": {},
     "output_type": "execute_result"
    }
   ],
   "source": [
    "embedding"
   ]
  },
  {
   "cell_type": "code",
   "execution_count": null,
   "metadata": {},
   "outputs": [],
   "source": []
  }
 ],
 "metadata": {
  "kernelspec": {
   "display_name": "Python 3",
   "language": "python",
   "name": "python3"
  },
  "language_info": {
   "codemirror_mode": {
    "name": "ipython",
    "version": 3
   },
   "file_extension": ".py",
   "mimetype": "text/x-python",
   "name": "python",
   "nbconvert_exporter": "python",
   "pygments_lexer": "ipython3",
   "version": "3.10.0"
  }
 },
 "nbformat": 4,
 "nbformat_minor": 2
}
